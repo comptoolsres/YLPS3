{
 "cells": [
  {
   "cell_type": "code",
   "execution_count": 2,
   "id": "e52d7526-dae4-451f-84a0-0b17f6cad4d4",
   "metadata": {
    "tags": []
   },
   "outputs": [],
   "source": [
    "import pandas as pd"
   ]
  },
  {
   "cell_type": "code",
   "execution_count": 5,
   "id": "82cfcff4-012c-44fc-a959-15003588b199",
   "metadata": {
    "tags": []
   },
   "outputs": [],
   "source": [
    "# read the data\n",
    "file_path = 'CO-OPS__8729108__wl.csv'\n",
    "df = pd.read_csv(file_path)"
   ]
  },
  {
   "cell_type": "code",
   "execution_count": 7,
   "id": "5cfc87aa-399e-4064-9a16-43886cda7f7b",
   "metadata": {
    "tags": []
   },
   "outputs": [
    {
     "data": {
      "text/html": [
       "<div>\n",
       "<style scoped>\n",
       "    .dataframe tbody tr th:only-of-type {\n",
       "        vertical-align: middle;\n",
       "    }\n",
       "\n",
       "    .dataframe tbody tr th {\n",
       "        vertical-align: top;\n",
       "    }\n",
       "\n",
       "    .dataframe thead th {\n",
       "        text-align: right;\n",
       "    }\n",
       "</style>\n",
       "<table border=\"1\" class=\"dataframe\">\n",
       "  <thead>\n",
       "    <tr style=\"text-align: right;\">\n",
       "      <th></th>\n",
       "      <th>Date Time</th>\n",
       "      <th>Water Level</th>\n",
       "      <th>Sigma</th>\n",
       "      <th>O</th>\n",
       "      <th>F</th>\n",
       "      <th>R</th>\n",
       "      <th>L</th>\n",
       "      <th>Quality</th>\n",
       "    </tr>\n",
       "  </thead>\n",
       "  <tbody>\n",
       "    <tr>\n",
       "      <th>0</th>\n",
       "      <td>2018-10-09 00:00</td>\n",
       "      <td>2.421</td>\n",
       "      <td>0.036</td>\n",
       "      <td>1</td>\n",
       "      <td>0</td>\n",
       "      <td>0</td>\n",
       "      <td>0</td>\n",
       "      <td>p</td>\n",
       "    </tr>\n",
       "    <tr>\n",
       "      <th>1</th>\n",
       "      <td>2018-10-09 00:06</td>\n",
       "      <td>2.454</td>\n",
       "      <td>0.036</td>\n",
       "      <td>1</td>\n",
       "      <td>0</td>\n",
       "      <td>0</td>\n",
       "      <td>0</td>\n",
       "      <td>p</td>\n",
       "    </tr>\n",
       "    <tr>\n",
       "      <th>2</th>\n",
       "      <td>2018-10-09 00:12</td>\n",
       "      <td>2.461</td>\n",
       "      <td>0.036</td>\n",
       "      <td>1</td>\n",
       "      <td>0</td>\n",
       "      <td>0</td>\n",
       "      <td>0</td>\n",
       "      <td>p</td>\n",
       "    </tr>\n",
       "    <tr>\n",
       "      <th>3</th>\n",
       "      <td>2018-10-09 00:18</td>\n",
       "      <td>2.444</td>\n",
       "      <td>0.036</td>\n",
       "      <td>1</td>\n",
       "      <td>0</td>\n",
       "      <td>0</td>\n",
       "      <td>0</td>\n",
       "      <td>p</td>\n",
       "    </tr>\n",
       "    <tr>\n",
       "      <th>4</th>\n",
       "      <td>2018-10-09 00:24</td>\n",
       "      <td>2.431</td>\n",
       "      <td>0.036</td>\n",
       "      <td>0</td>\n",
       "      <td>0</td>\n",
       "      <td>0</td>\n",
       "      <td>0</td>\n",
       "      <td>p</td>\n",
       "    </tr>\n",
       "  </tbody>\n",
       "</table>\n",
       "</div>"
      ],
      "text/plain": [
       "          Date Time   Water Level   Sigma   O   F   R   L  Quality \n",
       "0  2018-10-09 00:00         2.421   0.036   1   0   0   0         p\n",
       "1  2018-10-09 00:06         2.454   0.036   1   0   0   0         p\n",
       "2  2018-10-09 00:12         2.461   0.036   1   0   0   0         p\n",
       "3  2018-10-09 00:18         2.444   0.036   1   0   0   0         p\n",
       "4  2018-10-09 00:24         2.431   0.036   0   0   0   0         p"
      ]
     },
     "execution_count": 7,
     "metadata": {},
     "output_type": "execute_result"
    }
   ],
   "source": [
    "df.head()"
   ]
  },
  {
   "cell_type": "code",
   "execution_count": 8,
   "id": "985c9ddb-a2b6-4bdc-a43f-7b5f67e6f7b7",
   "metadata": {
    "tags": []
   },
   "outputs": [
    {
     "name": "stdout",
     "output_type": "stream",
     "text": [
      "Columns in the dataset: Index(['Date Time', ' Water Level', ' Sigma', ' O', ' F', ' R', ' L',\n",
      "       ' Quality '],\n",
      "      dtype='object')\n"
     ]
    }
   ],
   "source": [
    "print(\"Columns in the dataset:\", df.columns)"
   ]
  },
  {
   "cell_type": "code",
   "execution_count": 21,
   "id": "ba9bbff6-870e-46b4-8ce2-58f95ecea0c0",
   "metadata": {
    "tags": []
   },
   "outputs": [
    {
     "name": "stdout",
     "output_type": "stream",
     "text": [
      "The highest water level was 6.647 feet on 2018-10-10 18:06.\n"
     ]
    }
   ],
   "source": [
    "# Problem 1 (5 pts):\n",
    "# Write a script (or Jupyter Notebook code block) that opens the file, \n",
    "# uses a for loop to read through the file line by line and, \n",
    "# after finishing reading through the file, reports the highest water level and the date and time that was observed.\n",
    "\n",
    "max_water_level = None\n",
    "max_date_time = None\n",
    "with open(file_path, 'r') as file:\n",
    "    next(file)\n",
    "    \n",
    "    # uses a for loop to read through the file line by line\n",
    "    for line in file:\n",
    "        columns = line.split(',')\n",
    "        \n",
    "        # get the date, time, and water level\n",
    "        date_time = columns[0].strip()  # Date and time are combined in one column\n",
    "        water_level = columns[1].strip()\n",
    "        \n",
    "        if water_level:\n",
    "            water_level = float(water_level)  # Convert the string to a float number\n",
    "            \n",
    "            if max_water_level is None or water_level > max_water_level:\n",
    "                max_water_level = water_level\n",
    "                max_date_time = date_time\n",
    "\n",
    "#  print the highest water level and the date time\n",
    "print(f\"The highest water level was {max_water_level} feet on {max_date_time}.\")"
   ]
  },
  {
   "cell_type": "code",
   "execution_count": 22,
   "id": "5c2871f4-1c97-4f27-956a-33aae2ebc246",
   "metadata": {
    "tags": []
   },
   "outputs": [
    {
     "name": "stdout",
     "output_type": "stream",
     "text": [
      "The highest water level was 6.647 feet on 2018-10-10 18:06.\n",
      "The lowest water level was 1.621 feet on 2018-10-11 15:36.\n",
      "The average water level during the time period was 2.98 feet.\n"
     ]
    }
   ],
   "source": [
    "# Problem 2 (5 pts):\n",
    "# Either in a new script or modifying the above script, \n",
    "# calculate the lowest, highest and average water level observed during the time period. \n",
    "# As above, print the date and time for the lowest and highest readings.\n",
    "# Initialize variables to store the max, min, and sum of water levels\n",
    "\n",
    "max_water_level = None\n",
    "min_water_level = None\n",
    "max_date_time = None\n",
    "min_date_time = None\n",
    "total_water_level = 0\n",
    "count = 0  # To count the number of valid water levels\n",
    "\n",
    "# Open the file and process it line by line\n",
    "file_path = 'CO-OPS__8729108__wl.csv'\n",
    "\n",
    "with open(file_path, 'r') as file:\n",
    "    next(file)  # Skip the header row\n",
    "    \n",
    "    # for loop to read through the file line by line\n",
    "    for line in file:\n",
    "        columns = line.split(',')\n",
    "        \n",
    "        # get the date, time, and water level\n",
    "        date_time = columns[0].strip()  # Date and time are combined in one column\n",
    "        water_level = columns[1].strip()\n",
    "        \n",
    "        if water_level: \n",
    "            water_level = float(water_level)  \n",
    "            \n",
    "            # Update the total water level and count\n",
    "            total_water_level += water_level\n",
    "            count += 1\n",
    "            \n",
    "            # Check the highest water level\n",
    "            if max_water_level is None or water_level > max_water_level:\n",
    "                max_water_level = water_level\n",
    "                max_date_time = date_time  \n",
    "            \n",
    "            # Check the lowest water level\n",
    "            if min_water_level is None or water_level < min_water_level:\n",
    "                min_water_level = water_level\n",
    "                min_date_time = date_time  \n",
    "\n",
    "# calculate the average water level\n",
    "average_water_level = total_water_level / count if count > 0 else None\n",
    "\n",
    "# Print the results\n",
    "print(f\"The highest water level was {max_water_level} feet on {max_date_time}.\")\n",
    "print(f\"The lowest water level was {min_water_level} feet on {min_date_time}.\")\n",
    "print(f\"The average water level during the time period was {average_water_level:.2f} feet.\")\n"
   ]
  },
  {
   "cell_type": "code",
   "execution_count": 23,
   "id": "90ba004a-48b2-4fd0-ac3c-b2b4a09f84b7",
   "metadata": {
    "tags": []
   },
   "outputs": [
    {
     "name": "stdout",
     "output_type": "stream",
     "text": [
      "The fastest rise in water level was 0.64 feet over a 6-minute period on 2018-10-10 17:42.\n"
     ]
    }
   ],
   "source": [
    "# Problem 3 (5 pts):\n",
    "# Write a script (or Jupyter Notebook) that \n",
    "# calculates the fastest rise in water level per 6-minute period between measurements \n",
    "# (for this assignment, assume that each line of the dataset is a 6-minute interval) and \n",
    "# reports the date and time that was observed and the change in water level from the previous recording.\n",
    "\n",
    "previous_water_level = None\n",
    "previous_date_time = None\n",
    "max_rise = None\n",
    "max_rise_date_time = None\n",
    "\n",
    "file_path = 'CO-OPS__8729108__wl.csv'\n",
    "\n",
    "with open(file_path, 'r') as file:\n",
    "    next(file)\n",
    "    \n",
    "    for line in file:\n",
    "        columns = line.split(',')      \n",
    "        date_time = columns[0].strip()  \n",
    "        water_level = columns[1].strip()\n",
    "        \n",
    "        if water_level: \n",
    "            water_level = float(water_level) \n",
    "            \n",
    "            if previous_water_level is not None:\n",
    "                # the rise in water level (current - previous)\n",
    "                rise = water_level - previous_water_level\n",
    "                \n",
    "                # Check the largest rise\n",
    "                if max_rise is None or rise > max_rise:\n",
    "                    max_rise = rise\n",
    "                    max_rise_date_time = date_time\n",
    "                \n",
    "            previous_water_level = water_level\n",
    "            previous_date_time = date_time\n",
    "\n",
    "# Print\n",
    "if max_rise is not None:\n",
    "    print(f\"The fastest rise in water level was {max_rise:.2f} feet over a 6-minute period on {max_rise_date_time}.\")\n",
    "else:\n",
    "    print(\"No valid water level data to calculate the rise.\")"
   ]
  },
  {
   "cell_type": "code",
   "execution_count": 24,
   "id": "1f86c823-3350-422f-868d-6f40de0b62e5",
   "metadata": {
    "tags": []
   },
   "outputs": [
    {
     "name": "stdout",
     "output_type": "stream",
     "text": [
      "Warning: Water level increased by 0.30 feet at 2018-10-10 17:30.\n",
      "Warning: Water level increased by 0.28 feet at 2018-10-10 17:36.\n",
      "Warning: Water level increased by 0.64 feet at 2018-10-10 17:42.\n",
      "Warning: Water level exceeds 5.0 feet at 2018-10-10 17:42. Current level: 5.59 feet.\n",
      "Warning: Water level increased by 0.37 feet at 2018-10-10 17:48.\n",
      "Warning: Water level exceeds 5.0 feet at 2018-10-10 17:48. Current level: 5.96 feet.\n",
      "Warning: Water level increased by 0.45 feet at 2018-10-10 17:54.\n",
      "Warning: Water level exceeds 5.0 feet at 2018-10-10 17:54. Current level: 6.40 feet.\n",
      "Warning: Water level exceeds 5.0 feet at 2018-10-10 18:00. Current level: 6.58 feet.\n",
      "Warning: Water level exceeds 5.0 feet at 2018-10-10 18:06. Current level: 6.65 feet.\n",
      "Warning: Water level exceeds 5.0 feet at 2018-10-10 18:12. Current level: 6.50 feet.\n",
      "Warning: No water level reading received at 2018-10-10 18:18.\n",
      "Warning: Water level exceeds 5.0 feet at 2018-10-10 18:24. Current level: 6.31 feet.\n",
      "Warning: Water level exceeds 5.0 feet at 2018-10-10 18:30. Current level: 6.02 feet.\n",
      "Warning: Water level exceeds 5.0 feet at 2018-10-10 18:36. Current level: 5.72 feet.\n",
      "Warning: Water level exceeds 5.0 feet at 2018-10-10 18:42. Current level: 5.70 feet.\n",
      "Warning: Water level exceeds 5.0 feet at 2018-10-10 18:48. Current level: 5.45 feet.\n",
      "Warning: Water level exceeds 5.0 feet at 2018-10-10 18:54. Current level: 5.34 feet.\n",
      "Warning: Water level exceeds 5.0 feet at 2018-10-10 19:00. Current level: 5.22 feet.\n"
     ]
    }
   ],
   "source": [
    "#Problem 4 (5 pts):\n",
    "#Imagine that the file is providing live readings of the water level. \n",
    "#Write a script (or Jupyter Notebook) to print a line of text with a warning if any of these events occur:\n",
    "\n",
    "#The water level increases more than 0.25 since the previous recording.\n",
    "#The water level is over 5.0.\n",
    "#No reading is received at a time point.\n",
    "\n",
    "previous_water_level = None\n",
    "previous_date_time = None\n",
    "\n",
    "file_path = 'CO-OPS__8729108__wl.csv'\n",
    "\n",
    "with open(file_path, 'r') as file:\n",
    "    next(file) \n",
    "    \n",
    "    for line in file:\n",
    "        columns = line.split(',')\n",
    "        date_time = columns[0].strip() \n",
    "        water_level = columns[1].strip()\n",
    "        \n",
    "        if water_level: \n",
    "            water_level = float(water_level) \n",
    "            \n",
    "            # 1: Water level increases more than 0.25 since the previous recording.\n",
    "            if previous_water_level is not None:\n",
    "                rise = water_level - previous_water_level\n",
    "                if rise > 0.25:\n",
    "                    print(f\"Warning: Water level increased by {rise:.2f} feet at {date_time}.\")\n",
    "            \n",
    "            # 2: The water level is over 5.0.\n",
    "            if water_level > 5.0:\n",
    "                print(f\"Warning: Water level exceeds 5.0 feet at {date_time}. Current level: {water_level:.2f} feet.\")\n",
    "\n",
    "            previous_water_level = water_level\n",
    "            previous_date_time = date_time\n",
    "        \n",
    "        else:\n",
    "            #3: No reading is received at a time point.\n",
    "            print(f\"Warning: No water level reading received at {date_time}.\")"
   ]
  },
  {
   "cell_type": "code",
   "execution_count": null,
   "id": "89636933-482d-4c65-bdb1-dbc0d42767dd",
   "metadata": {},
   "outputs": [],
   "source": []
  }
 ],
 "metadata": {
  "kernelspec": {
   "display_name": "UFRC Python-3.8",
   "language": "python",
   "name": "python3-3.8-ufrc"
  },
  "language_info": {
   "codemirror_mode": {
    "name": "ipython",
    "version": 3
   },
   "file_extension": ".py",
   "mimetype": "text/x-python",
   "name": "python",
   "nbconvert_exporter": "python",
   "pygments_lexer": "ipython3",
   "version": "3.8.15"
  }
 },
 "nbformat": 4,
 "nbformat_minor": 5
}
